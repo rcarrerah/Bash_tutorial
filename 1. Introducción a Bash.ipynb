{
 "cells": [
  {
   "cell_type": "markdown",
   "metadata": {},
   "source": [
    "# <center>UNIVERSIDAD VERACRUZANA</center>\n",
    "![alt text](http://www.uv.mx/mneuro/files/2015/06/banner-logosimbolo-UV.jpg \"logo UV\")\n",
    "# <center>Introducción al intérprete de comandos Bash</center>\n",
    "## <center>Ricardo Carrera Hernández</center>"
   ]
  },
  {
   "cell_type": "markdown",
   "metadata": {},
   "source": [
    "EL intérprete de comandos es una interface alfanumérica de entrada/salida entre el usuario y la computadora.\n",
    "\n",
    "Se le conoce como CLI (Intérprete de Línea de Comandos, por sus siglas en inglés). Se trata del modelo de comunicación utilizado en el sistema operativo Unix.\n",
    "\n",
    "Este ambiente de trabajo y comunicación entre usuario y computadora es la herramienta que ayuda a un administrador a realizar cualquier tarea administrativa."
   ]
  },
  {
   "cell_type": "markdown",
   "metadata": {
    "collapsed": true
   },
   "source": [
    "Existe más de un intérprete de comandos pero Bash es es el intérprete por default en la mayoría de los sistemas operativos Unix y tipo Unix como Linux o Mac OS.\n",
    "\n",
    "Desde que se creó Unix y hasta la fecha, el uso del intérprete de comandos y su facilidad para crear scripts, pues cuenta con un lenguaje de programacióm propio, es la mejor herramienta para realizar tareas administrativas y procesos de automatización en los sistemas operativos Unix."
   ]
  },
  {
   "cell_type": "markdown",
   "metadata": {},
   "source": [
    "## Estructura básica de un script en Bash"
   ]
  },
  {
   "cell_type": "markdown",
   "metadata": {},
   "source": [
    "#!/bin/bash\n",
    "\n",
    "#!/bin/sh\n",
    "\n",
    "#!/bin/zsh"
   ]
  },
  {
   "cell_type": "markdown",
   "metadata": {},
   "source": [
    "### Primer Script"
   ]
  },
  {
   "cell_type": "code",
   "execution_count": null,
   "metadata": {},
   "outputs": [],
   "source": [
    "#!/bin/bash\n",
    "\n",
    "# ejecutamos nuestra primer instrucción\n",
    "\n",
    "echo \"Hola mundo\""
   ]
  },
  {
   "cell_type": "markdown",
   "metadata": {},
   "source": [
    "Puede utilizarse cualquier editor de texto simple para escribir los scripts.\n",
    "Una vez guardados los cambios, deben cambiarse los permisos del archivo para poder ejecutarlo.\n",
    "\n",
    "chmod +x <nombre_de_archivo>.sh\n",
    "\n",
    "Nótese que el archivo contiene la extensión .sh a manera de identificarlo de otros archivos de código fuente de otros lenguajes de programación.\n",
    "\n",
    "Para ejecutarlo, se escribe lo siguiente en la línea de comandos:\n",
    "\n",
    "./<nombre_de_archivo>.sh"
   ]
  },
  {
   "cell_type": "markdown",
   "metadata": {},
   "source": [
    "### La línea de comandos para introducir órdenes"
   ]
  },
  {
   "cell_type": "markdown",
   "metadata": {},
   "source": [
    "A través de la línea de comandos se puede realizar prácticamente cualquier tarea.\n",
    "\n",
    "Prompt o apuntador de línea de comando:\n",
    "\n",
    "[usuario@nombre_de_host ~]$"
   ]
  },
  {
   "cell_type": "code",
   "execution_count": null,
   "metadata": {},
   "outputs": [],
   "source": [
    "ls"
   ]
  },
  {
   "cell_type": "code",
   "execution_count": null,
   "metadata": {},
   "outputs": [],
   "source": [
    "ls -l"
   ]
  },
  {
   "cell_type": "code",
   "execution_count": null,
   "metadata": {},
   "outputs": [],
   "source": [
    "ls -a"
   ]
  },
  {
   "cell_type": "markdown",
   "metadata": {},
   "source": [
    "### conceptos sobre redirección de datos"
   ]
  },
  {
   "cell_type": "markdown",
   "metadata": {},
   "source": [
    "En Linux existen 3 descriptores de archivos: stdin, stdout y stderr (std = estándar).\n",
    "\n",
    "  * **stdin** corresponde a la entrada estándar.\n",
    "  * **stdout** corresponde a la salida estándar.\n",
    "  * **stderr** corresponde al error estándar.\n",
    "  "
   ]
  },
  {
   "cell_type": "markdown",
   "metadata": {},
   "source": [
    "A través de estos descriptores, básicamente podremos realizar las siguientes tareas con el flujo\n",
    "de datos (i/o):\n",
    "\n",
    "  * Redirigir **stdout** a un archivo.\n",
    "  * Redirigir **stderr** a un archivo.\n",
    "  * Redirigir **stdout** a **stderr**.\n",
    "  * Redirigir **stderr** a **stdout**.\n",
    "  * Redirigir **stderr** y **stdout** a un archivo.\n",
    "  * Redirigir **stderr** y **stdout** a **stdout**.\n",
    "  * Redirigir **stderr** y **stdout** a **stderr**."
   ]
  },
  {
   "cell_type": "markdown",
   "metadata": {},
   "source": [
    "Cuando se utiliza el número 1, este representa a **stdout**, y el número 2, a **stderr**."
   ]
  },
  {
   "cell_type": "markdown",
   "metadata": {},
   "source": [
    "**Ejemplo 1**: Redirigir la salida estándar (**stdout**) a un archivo."
   ]
  },
  {
   "cell_type": "code",
   "execution_count": null,
   "metadata": {
    "collapsed": true
   },
   "outputs": [],
   "source": [
    "ls -l > ls-l.txt"
   ]
  },
  {
   "cell_type": "code",
   "execution_count": null,
   "metadata": {
    "collapsed": true
   },
   "outputs": [],
   "source": [
    "ls"
   ]
  },
  {
   "cell_type": "markdown",
   "metadata": {},
   "source": [
    "**Ejemplo 2**: Redirigir la el error estándar (**stderr**) a un archivo."
   ]
  },
  {
   "cell_type": "code",
   "execution_count": null,
   "metadata": {
    "collapsed": true
   },
   "outputs": [],
   "source": [
    "grep da * 2 > errores-de-grep.txt"
   ]
  },
  {
   "cell_type": "code",
   "execution_count": null,
   "metadata": {
    "collapsed": true
   },
   "outputs": [],
   "source": [
    "ls"
   ]
  },
  {
   "cell_type": "code",
   "execution_count": null,
   "metadata": {
    "collapsed": true
   },
   "outputs": [],
   "source": [
    "cat errores-de-grep.txt"
   ]
  },
  {
   "cell_type": "markdown",
   "metadata": {},
   "source": [
    "**Ejemplo 3**: Redirigir la salida estándar (**stdout**) al error estándar (**stderr**)."
   ]
  },
  {
   "cell_type": "markdown",
   "metadata": {},
   "source": [
    "Esto hará que la salida **stdout** de un programa se escriba en el mismo descriptor de archivo\n",
    "que **stderr**."
   ]
  },
  {
   "cell_type": "code",
   "execution_count": null,
   "metadata": {
    "collapsed": true
   },
   "outputs": [],
   "source": [
    "grep da * 1>&2"
   ]
  },
  {
   "cell_type": "markdown",
   "metadata": {},
   "source": [
    "La parte **stdout** del comando se envía a **stderr**."
   ]
  },
  {
   "cell_type": "markdown",
   "metadata": {},
   "source": [
    "**Ejemplo 4**: Redirigir el error estándar (**stderr**) a la salida estándar (**stdout**)."
   ]
  },
  {
   "cell_type": "markdown",
   "metadata": {},
   "source": [
    "Este comando hará que la salida **stderr** de un programa se escriba en el mismo descriptor de\n",
    "archivo que **stdout**."
   ]
  },
  {
   "cell_type": "code",
   "execution_count": null,
   "metadata": {
    "collapsed": true
   },
   "outputs": [],
   "source": [
    "grep * 2>&1"
   ]
  },
  {
   "cell_type": "markdown",
   "metadata": {},
   "source": [
    "En este caso, la parte **stderr** del comando se envía a **stdout**. Si hacemos una tubería con less,\n",
    "veremos que las líneas que normalmente “desaparecen” (al ser escritas en **stderr**), ahora\n",
    "permanecen (porque están en el **stdout**)."
   ]
  },
  {
   "cell_type": "markdown",
   "metadata": {},
   "source": [
    "**Ejemplo 5**: Enviar el error estándar (**stderr**) y la salida estándar (**stdout**) a un archivo."
   ]
  },
  {
   "cell_type": "markdown",
   "metadata": {},
   "source": [
    "Este comando colocará toda la salida de un programa en un archivo. A veces, esto es muy\n",
    "conveniente utilizarlo en las entradas de cron, si necesitamos que un comando se ejecute en\n",
    "absoluto silencio."
   ]
  },
  {
   "cell_type": "code",
   "execution_count": null,
   "metadata": {
    "collapsed": true
   },
   "outputs": [],
   "source": [
    "rm -f $(find / -name temporal)  &> /dev/null"
   ]
  },
  {
   "cell_type": "markdown",
   "metadata": {},
   "source": [
    "Este comando (usado como una entrada de cron) eliminará todo archivo llamado “temporal”\n",
    "en cualquier directorio. Debemos estar muy seguros de lo que hace un comando si vamos a\n",
    "eliminar la salida por pantalla del mismo."
   ]
  },
  {
   "cell_type": "markdown",
   "metadata": {},
   "source": [
    "La forma más habitual de redireccionar en un script es por medio del uso de la salida estándar a un archivo,\n",
    "ya que nos ayuda a depurar (debug) y trazar errores en el código, así como a realizar registros (logs) del funcionamiento del mismo."
   ]
  },
  {
   "cell_type": "markdown",
   "metadata": {},
   "source": [
    "### Tuberías"
   ]
  },
  {
   "cell_type": "markdown",
   "metadata": {},
   "source": [
    "Las tuberías (pipes) nos permiten enlazar la salida de un programa a la entrada del siguiente."
   ]
  },
  {
   "cell_type": "code",
   "execution_count": null,
   "metadata": {
    "collapsed": true
   },
   "outputs": [],
   "source": [
    "ps aux | grep $USER"
   ]
  },
  {
   "cell_type": "markdown",
   "metadata": {},
   "source": [
    "Supongamos que necesitamos sacar un listado de todos los procesos filtrado por nuestro nombre de usuario en cuya instancia se esté ejecutando el\n",
    "navegador firefox. Una forma de hacerlo sería esta:"
   ]
  },
  {
   "cell_type": "code",
   "execution_count": null,
   "metadata": {
    "collapsed": true
   },
   "outputs": [],
   "source": [
    "ps aux | grep $USER | grep chrome"
   ]
  },
  {
   "cell_type": "markdown",
   "metadata": {},
   "source": [
    "**Ejemplo**:"
   ]
  },
  {
   "cell_type": "code",
   "execution_count": null,
   "metadata": {
    "collapsed": true
   },
   "outputs": [],
   "source": [
    "ls -l | sed -e \"s/[aeio]/u/g\""
   ]
  },
  {
   "cell_type": "markdown",
   "metadata": {},
   "source": [
    "En este caso, ocurre lo siguiente: primero ejecutamos el comando **ls -l** y luego su salida, en\n",
    "lugar de imprimirse en la pantalla, se envía (entuba) al programa **sed**, que imprime la salida\n",
    "correspondiente a dicho comando. Concretamente, modifica las cuatro primeras vocales (a, e, i,\n",
    "o) por la “u”."
   ]
  },
  {
   "cell_type": "code",
   "execution_count": null,
   "metadata": {
    "collapsed": true
   },
   "outputs": [],
   "source": []
  }
 ],
 "metadata": {
  "kernelspec": {
   "display_name": "Bash",
   "language": "bash",
   "name": "bash"
  },
  "language_info": {
   "codemirror_mode": "shell",
   "file_extension": ".sh",
   "mimetype": "text/x-sh",
   "name": "bash"
  }
 },
 "nbformat": 4,
 "nbformat_minor": 2
}
