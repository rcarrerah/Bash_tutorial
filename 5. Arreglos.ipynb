{
 "cells": [
  {
   "cell_type": "markdown",
   "metadata": {},
   "source": [
    "# <center>UNIVERSIDAD VERACRUZANA</center>\n",
    "![alt text](http://www.uv.mx/mneuro/files/2015/06/banner-logosimbolo-UV.jpg \"logo UV\")\n",
    "## <center>Intérprete de comandos BASH</center>\n",
    "## <center>Arreglos</center>\n",
    "## <center>Ricardo Carrera Hernández</center>"
   ]
  },
  {
   "cell_type": "markdown",
   "metadata": {},
   "source": [
    "Un arreglo (array) es un medio de guardar un conjunto de objetos de la misma clase. La forma de acceder a cada elemento individual del array es mediante un número entero denominado índice. El índice del primer elemento es 0 (cero) y n-1 es el índice del último elemento, siendo n, la dimensión del array. La estructura de un valor cualquiera del array en BashScript es la siguiente:"
   ]
  },
  {
   "cell_type": "markdown",
   "metadata": {},
   "source": [
    "<center>nombre[índice]=valor"
   ]
  },
  {
   "cell_type": "markdown",
   "metadata": {},
   "source": [
    "### Ejemplo"
   ]
  },
  {
   "cell_type": "markdown",
   "metadata": {},
   "source": [
    "distro[0]=Debian<br>\n",
    "distro[1]=Ubuntu<br>\n",
    "distro[2]=Arch<br>\n",
    "distro[3]=Puppy<br>"
   ]
  },
  {
   "cell_type": "markdown",
   "metadata": {},
   "source": [
    "Si necesitamos declarar varios valores dentro de un array, podemos hacerlo de la siguiente manera:"
   ]
  },
  {
   "cell_type": "markdown",
   "metadata": {},
   "source": [
    "<center>nombre_arreglo=(valor1 valor2 valor3 valor4)"
   ]
  },
  {
   "cell_type": "markdown",
   "metadata": {},
   "source": [
    "<center>declare -a nombre_array=(valor1 valor2 valor3 valor4)"
   ]
  },
  {
   "cell_type": "markdown",
   "metadata": {},
   "source": [
    "Para acceder al valor del primer índice en este array, deberemos seleccionarlo así:"
   ]
  },
  {
   "cell_type": "markdown",
   "metadata": {},
   "source": [
    "<center>nombre_array[0]"
   ]
  },
  {
   "cell_type": "code",
   "execution_count": 3,
   "metadata": {},
   "outputs": [
    {
     "name": "stdout",
     "output_type": "stream",
     "text": [
      "El array tiene 3 elementos. Estos son:\n",
      "0: bash\n",
      "1: ksh\n",
      "2: csh\n"
     ]
    }
   ],
   "source": [
    "#!/bin/bash\n",
    "array=(bash ksh csh)\n",
    "elem=${#array[*]}  # Así calculamos el total de elementos del array\n",
    "echo \"El array tiene $elem elementos. Estos son:\"\n",
    "i=0\n",
    "while [ $i -lt $elem ]; do\n",
    "echo \"$i: ${array[$i]}\"\n",
    "let i++\n",
    "done"
   ]
  },
  {
   "cell_type": "markdown",
   "metadata": {},
   "source": [
    "Si necesitáramos que algún elemento tuviera un espacio en medio del valor, lo deberíamos declarar usando las comillas simples, por ejemplo:"
   ]
  },
  {
   "cell_type": "markdown",
   "metadata": {},
   "source": [
    "<center>array=('valor 1' 'valor 2' 'valor 3' 'valor 4')"
   ]
  },
  {
   "cell_type": "markdown",
   "metadata": {},
   "source": [
    "### Operaciones simples con arreglos"
   ]
  },
  {
   "cell_type": "code",
   "execution_count": 4,
   "metadata": {},
   "outputs": [
    {
     "name": "stdout",
     "output_type": "stream",
     "text": [
      "Agregando \"zsh\" al final del array\n",
      "Listando todos los elementos del array\n",
      "bash ksh csh zsh\n",
      "Listando todos los elementos del array\n",
      "bash ksh csh zsh\n",
      "Borrando \"ksh\"\n",
      "Ahora el array consta de:\n",
      "bash csh zsh\n",
      "Longitud del tercer elemento del array\n",
      "3  letras\n",
      "Borrando el array completamente\n",
      "El contenido del array es: \n"
     ]
    }
   ],
   "source": [
    "echo \"Agregando \\\"zsh\\\" al final del array\"\n",
    "array=( \"${array[@]}\" \"zsh\" )\n",
    "echo \"Listando todos los elementos del array\"\n",
    "echo \"${array[@]}\"\n",
    "echo \"Listando todos los elementos del array\"\n",
    "echo \"${array[*]}\" # Otra manera\n",
    "echo \"Borrando \\\"ksh\\\"\"\n",
    "unset array[1] # Igual que hacer array[1]=\n",
    "echo \"Ahora el array consta de:\"\n",
    "echo \"${array[@]}\"\n",
    "echo \"Longitud del tercer elemento del array\"\n",
    "len1=${#array[2]}; echo $len1 \" letras\"\n",
    "echo \"Borrando el array completamente\"\n",
    "unset array\n",
    "echo \"El contenido del array es: ${array[@]}\" # Array vacio\n"
   ]
  }
 ],
 "metadata": {
  "kernelspec": {
   "display_name": "Bash",
   "language": "bash",
   "name": "bash"
  },
  "language_info": {
   "codemirror_mode": "shell",
   "file_extension": ".sh",
   "mimetype": "text/x-sh",
   "name": "bash"
  }
 },
 "nbformat": 4,
 "nbformat_minor": 2
}
