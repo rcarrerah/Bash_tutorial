{
 "cells": [
  {
   "cell_type": "markdown",
   "metadata": {},
   "source": [
    "# <center>UNIVERSIDAD VERACRUZANA</center>\n",
    "![alt text](http://www.uv.mx/mneuro/files/2015/06/banner-logosimbolo-UV.jpg \"logo UV\")\n",
    "## <center>Intérprete de comandos BASH</center>\n",
    "## <center>Estructuras de Control</center>\n",
    "## <center>Ricardo Carrera Hernández</center>"
   ]
  },
  {
   "cell_type": "markdown",
   "metadata": {},
   "source": [
    "con las estructuras de control podremos:\n",
    "\n",
    "   * De acuerdo a una condición, ejecutar un grupo u otro de sentencias (If-Then-Else, Select y Case)\n",
    "   * Ejecutar un grupo de sentencias mientras exista una condición (While-do)\n",
    "   * Ejecutar un grupo de sentencias hasta que exista una condición (Until-do)\n",
    "   * Ejecutar un grupo de sentencias un número determinado de veces (For-Next)"
   ]
  },
  {
   "cell_type": "markdown",
   "metadata": {},
   "source": [
    "Todas las estructuras de control tienen un único punto de entrada y un único punto de salida durante la ejecución del código. Las estructuras de control se puede clasificar en:\n",
    "\n",
    "1. Secuenciales.\n",
    "2. Iterativas.\n",
    "3. De control avanzadas."
   ]
  },
  {
   "cell_type": "markdown",
   "metadata": {},
   "source": [
    "## if-then-else-fi"
   ]
  },
  {
   "cell_type": "markdown",
   "metadata": {},
   "source": [
    "Si necesitamos realizar una acción u otra en base a una condición dada, deberemos utilizar la estructura if-then-else-fi.\n",
    "\n",
    "En la mayor parte de lenguajes de programación, las estructuras de control condicionales se invocan de forma muy similar, aunque sintácticamente difieren un poco entre los diferentes lenguajes."
   ]
  },
  {
   "cell_type": "markdown",
   "metadata": {},
   "source": [
    "IF (Condición) THEN<br>\n",
    "&emsp;&emsp;(Si se cumple la condición principal, ejecuta sentencia 1)<br>\n",
    "ELSE<br>\n",
    "&emsp;&emsp;(Si no, ejecuta sentencia 2)<br>\n",
    "ENDIF"
   ]
  },
  {
   "cell_type": "markdown",
   "metadata": {},
   "source": [
    "En BashScript, la forma correcta de finalizar la estructura es ligeramente diferente:"
   ]
  },
  {
   "cell_type": "markdown",
   "metadata": {},
   "source": [
    "IF (Condición) THEN<br>\n",
    "&emsp;&emsp;(Si se cumple la condición, ejecuta sentencia 1)<br>\n",
    "ELSE<br>\n",
    "&emsp;&emsp;(Si no, ejecuta sentencia 2)<br>\n",
    "FI"
   ]
  },
  {
   "cell_type": "markdown",
   "metadata": {},
   "source": [
    "### **Ejemplo:**"
   ]
  },
  {
   "cell_type": "code",
   "execution_count": null,
   "metadata": {
    "collapsed": true
   },
   "outputs": [],
   "source": [
    "if [ 1 -gt 2 ]; then\n",
    "    echo \"Este caso es imposible puesto que 1 nunca será mayor que 2.\"\n",
    "else\n",
    "    echo \"2 siempre es mayor que uno.\"\n",
    "fi"
   ]
  },
  {
   "cell_type": "markdown",
   "metadata": {},
   "source": [
    "### Otro ejemplo:"
   ]
  },
  {
   "cell_type": "code",
   "execution_count": null,
   "metadata": {
    "collapsed": true
   },
   "outputs": [],
   "source": [
    "#!/bin/bash\n",
    "read -p \"Introduce un número del 1 al 9: \" num\n",
    "if [ “$num” -gt “5” ]; then\n",
    "    echo \"El número introducido es MAYOR que 5.\"\n",
    "else\n",
    "    echo \"El número introducido es MENOR que 5.\"\n",
    "fi"
   ]
  },
  {
   "cell_type": "markdown",
   "metadata": {},
   "source": [
    "### Ejemplos con if-else-fi"
   ]
  },
  {
   "cell_type": "markdown",
   "metadata": {},
   "source": [
    "Comprobación por comparación de números PIN almacenados en variables:"
   ]
  },
  {
   "cell_type": "code",
   "execution_count": null,
   "metadata": {
    "collapsed": true
   },
   "outputs": [],
   "source": [
    "#!/bin/bash\n",
    "\n",
    "# Leemos los números PIN y los almacenamos en variables\n",
    "read -s -p \"Introduce el PIN: \" pin1\n",
    "\n",
    "# Escapamos el salto de línea ya que la opción -s de read los limita\n",
    "echo -e \"\\nVariable 1 Almacenada.\"\n",
    "read -s -p \"Vuelve a introducir el PIN: \" pin2\n",
    "\n",
    "# Escapamos de nuevo el salto de línea\n",
    "echo -e \"\\nVariable 2 Almacenada.\"\n",
    "\n",
    "# Comparamos el valor de ambas variables y mostramos el resultado\n",
    "if [ $pin1 -eq $pin2 ] ; then\n",
    "    echo \"El PIN coincide.\"\n",
    "else\n",
    "    echo \"El PIN no coincide.\"\n",
    "fi"
   ]
  },
  {
   "cell_type": "markdown",
   "metadata": {},
   "source": [
    "Si durante la ejecución de esta parte del script, el usuario introduce otra cosa que no sea un número, el script dará un error, ya que las comparaciones con **-eq** solo permite hacerlas entre números y no entre cadenas de caracteres. Si quisiéramos usar una cadena de caracteres en lugar de números, la comparación debería ser con el operador “=” o “==”."
   ]
  },
  {
   "cell_type": "code",
   "execution_count": null,
   "metadata": {
    "collapsed": true
   },
   "outputs": [],
   "source": [
    "#!/bin/bash\n",
    "\n",
    "# Comprobación de contraseñas con estructuras de control\n",
    "read -s -p \"Introduce contraseña: \" pass1 ;\n",
    "echo -e \"\\nVariable 1 Almacenada.\"\n",
    "read -s -p \"Vuelve a introducir contraseña: \" pass2\n",
    "echo -e \"\\nVariable 2 Almacenada.\"\n",
    "\n",
    "# Comparamos los valores de las variables entre si y mostramos el resultado\n",
    "if [ \"$pass1\" == \"$pass2\" ] ; then\n",
    "    echo \"La contraseña coincide.\"\n",
    "else\n",
    "    echo \"La contraseña no coincide.\"\n",
    "fi"
   ]
  },
  {
   "cell_type": "markdown",
   "metadata": {},
   "source": [
    "### ejemplo:\n",
    "\n",
    "En este caso vamos “anidar” elementos de control en nuestro código para realizar diferentes comprobaciones. En el siguiente ejemplo,anidaremos dos estructuras de control.\n",
    "\n",
    "La primera nos dirá si la cadena que introduce el usuario está vacía, en cuyo caso, saldrá del script. La segunda comprobación en caso de que la cadena tenga contenido (no sea null), es para identificar si el número es menor de 10. En caso afirmativo, se mostrará el número elegido por el usuario."
   ]
  },
  {
   "cell_type": "code",
   "execution_count": null,
   "metadata": {
    "collapsed": true
   },
   "outputs": [],
   "source": [
    "#!/bin/bash\n",
    "\n",
    "#Limpiamos la pantalla.\n",
    "clear\n",
    "\n",
    "#Capturamos el valor de una variable\n",
    "echo \"Introduce tu nombre\"\n",
    "read nombre\n",
    "echo \"Introduce tu apellido\"\n",
    "read apellido\n",
    "echo \"Hola \"$nombre $apellido\".\"\n",
    "echo \"Elige un número del 1 al 10\"\n",
    "read num\n",
    "if [ -z $num ] ; then\n",
    "    echo \"No has introducido ningún número.\"\n",
    "    echo \"Saliendo...\"\n",
    "    exit 0\n",
    "else\n",
    "    if [[ $num -gt \"10\" || $num -lt “1” ]] ; then\n",
    "        echo \"El número elegido (\"$num\") no es válido.\"\n",
    "        echo \"El rango es entre 1 y 10.\"\n",
    "    else\n",
    "        echo \"El número que has elegido es el: \"$num\n",
    "    fi\n",
    "fi"
   ]
  },
  {
   "cell_type": "markdown",
   "metadata": {},
   "source": [
    "### Otras formas de utilizar la sentencia if"
   ]
  },
  {
   "cell_type": "markdown",
   "metadata": {},
   "source": [
    "Además de los corchetes, a la hora de escribir código también podemos utilizar las sentencias\n",
    "de control de la siguiente forma:"
   ]
  },
  {
   "cell_type": "code",
   "execution_count": null,
   "metadata": {
    "collapsed": true
   },
   "outputs": [],
   "source": [
    "cadena1=\"Texto\"\n",
    "cadena2=\"Otro texto\"\n",
    "if test \"$cadena1\" = \"$cadena1\" then\n",
    "    echo \"Cadenas iguales\"\n",
    "else\n",
    "    echo \"Cadenas distintas\"\n",
    "fi"
   ]
  },
  {
   "cell_type": "markdown",
   "metadata": {},
   "source": [
    "Este método, igualmente válido a la hora de realizar el control del flujo de ejecución, nos\n",
    "arrojaría el mismo resultado que el siguiente código:"
   ]
  },
  {
   "cell_type": "code",
   "execution_count": null,
   "metadata": {
    "collapsed": true
   },
   "outputs": [],
   "source": [
    "cadena1=\"Texto\"\n",
    "cadena2=\"Otro texto\"\n",
    "\n",
    "if [ \"$cadena1\" == \"$cadena1\" ] then\n",
    "    echo \"Cadenas iguales\"\n",
    "else\n",
    "    echo \"Cadenas distintas\"\n",
    "fi"
   ]
  },
  {
   "cell_type": "markdown",
   "metadata": {},
   "source": [
    "### Usando elif en una estructura if"
   ]
  },
  {
   "cell_type": "markdown",
   "metadata": {},
   "source": [
    "El propósito de crear un script es el de realizar una operación repetitiva (automatizar) que\n",
    "requeriría mucho tiempo hacerla manualmente, aunque también queremos que nuestro código\n",
    "sea limpio y ocupe lo menos posible.\n",
    "\n",
    "Cuando más limpio y optimizado esté nuestro código, menos gasto de procesador y memoria consumirá durante su ejecución, lo que dejará más recursos libres al resto de procesos activos en el sistema que puedan ser críticos o simplemente necesitar mayor consumo de CPU.\n",
    "\n",
    "Por ello, aprender a optimizar nuestro código y a mantenerlo limpio y ordenado (comentándolo en caso necesario) nos ayudará a mejorar a la hora de crear mejores y más potentes scripts. Una forma de evitar ensuciar código innecesariamente es utilizando elif, cuya estructura básica sería algo así:"
   ]
  },
  {
   "cell_type": "markdown",
   "metadata": {},
   "source": [
    "IF \"condicion\" THEN<br>\n",
    "&emsp;&emsp;\"comandos\"<br>\n",
    "ELIF \"condicion\" THEN<br>\n",
    "&emsp;&emsp;\"comandos\"<br>\n",
    "ELSE<br>\n",
    "&emsp;&emsp;\"comandos\"<br>\n",
    "FI"
   ]
  },
  {
   "cell_type": "code",
   "execution_count": null,
   "metadata": {},
   "outputs": [],
   "source": [
    "#!/bin/bash\n",
    "hora1=`date +%k`  # Obtenemos la hora en formato 24H\n",
    "hora2=`date +%l`  # Obtenemos la hora en formato 12H\n",
    "if [ $hora1 -eq 12 ] ; then\n",
    "       dia=\"del mediodía.\"\n",
    "elif [ $hora1 -gt 12 ] ; then\n",
    "       dia=\"de la tarde.\"\n",
    "else\n",
    "       dia=\"de la mañana.\"\n",
    "fi\n",
    "echo \"Son las $hora2 $dia\""
   ]
  },
  {
   "cell_type": "markdown",
   "metadata": {},
   "source": [
    "Podemos utilizar varios elif en la misma estructura de control según necesitemos para establecer condiciones adicionales a evaluar:"
   ]
  },
  {
   "cell_type": "markdown",
   "metadata": {},
   "source": [
    "IF \"condición\" THEN<br>\n",
    "&emsp;&emsp;\"comandos\"<br>\n",
    "&emsp;&emsp;ELIF \"condición\" THEN<br>\n",
    "&emsp;&emsp;\"comandos\"<br>\n",
    "ELIF \"condición\" THEN<br>\n",
    "&emsp;&emsp;\"comandos\"<br>\n",
    "ELIF \"condición\" THEN<br>\n",
    "&emsp;&emsp;\"comandos\"<br>\n",
    "ELSE<br>\n",
    "&emsp;&emsp;\"comandos\"<br>\n",
    "FI"
   ]
  },
  {
   "cell_type": "markdown",
   "metadata": {},
   "source": [
    "### Condicionales por interacción del usuario (Select - Case)"
   ]
  },
  {
   "cell_type": "markdown",
   "metadata": {
    "collapsed": true
   },
   "source": [
    "Existen ciertos tipos de condicionales diferentes a los **if** que requieren de interacción por parte del usuario la mayoría de las veces para, en base a una elección o selección programada, ejecutar una u otra cosa."
   ]
  },
  {
   "cell_type": "markdown",
   "metadata": {},
   "source": [
    "#### SELECT"
   ]
  },
  {
   "cell_type": "markdown",
   "metadata": {},
   "source": [
    "Esta estructura está a medio camino entre una orden de lectura de entrada de datos y una de control de flujo. Se utiliza principalmente para que el usuario elija una opción entra una lista prefijada con anterioridad, volviendo al inicio hasta que metamos un break para salir. Su sintaxis es muy sencilla:"
   ]
  },
  {
   "cell_type": "markdown",
   "metadata": {},
   "source": [
    "**SELECT** variable **IN** elemento1 elemento2 elemento3 elemento4<br>\n",
    "**DO**<br>\n",
    "&emsp;&emsp;(Se ejecuta el comando)<br>\n",
    "**DONE**<br>"
   ]
  },
  {
   "cell_type": "markdown",
   "metadata": {},
   "source": [
    "Básicamente, esta orden **SELECT** muestra en la salida estándar una lista numerada (de 1 a n elementos, es decir, tantas opciones como elementos le pasemos) que contendrá todas las palabras después de **IN** (en este caso: elemento2 elemento3 elemento4). Luego se quedará esperando nuestra elección. Si tecleamos uno de los números correspondientes a alguna de las palabras en la lista, se le asignara dicho valor a la variable y se ejecutarán los comandos. Si tecleamos un número fuera del rango o cualquier otra cosa, la variable se quedará sin contenido. Lo tecleado se almacenará en la variable **$REPLY**. Los comandos se ejecutaran cada vez que elijamos una opción hasta que ordenemos un comando **break** que interrumpa la ejecución de la orden."
   ]
  },
  {
   "cell_type": "markdown",
   "metadata": {},
   "source": [
    "Si no indicamos la lista de palabras, se nos mostrara una lista con los parámetros pasados al comando por medio de las variables de referencia **$1-$9**."
   ]
  },
  {
   "cell_type": "markdown",
   "metadata": {},
   "source": [
    "#### Ejemplo:"
   ]
  },
  {
   "cell_type": "code",
   "execution_count": null,
   "metadata": {},
   "outputs": [],
   "source": [
    "#!/bin/bash\n",
    "echo \"Ejemplo de estructuras SELECT y CASE\"\n",
    "echo \"Selecciona una acción:\"\n",
    "select ACCION in Empezar Repetir Acabar\n",
    "do\n",
    "    case $ACCION in\n",
    "        \"Empezar\")\n",
    "             echo \"El usuario quiere empezar.\"\n",
    "           ;;\n",
    "        \"Repetir\")\n",
    "             echo \"El usuario quiere repetir.\"\n",
    "           ;;\n",
    "        \"Acabar\")\n",
    "             echo \"El usuario quiere salir.\"\n",
    "             break\n",
    "           ;;\n",
    "           *)\n",
    "             echo \"No sabemos lo que quiere el usuario.\"\n",
    "           ;;\n",
    "    esac\n",
    "done"
   ]
  },
  {
   "cell_type": "markdown",
   "metadata": {},
   "source": [
    "la ejecución del script no se para hasta que encuentra la orden break en el patrón establecido para salir. Esto nos permite seguir ejecutando indefinidamente el script mientras sea útil. Hay que tener en cuenta que si se nos olvida incluir una salida en alguna o varias opciones, se nos generaría un bucle de ejecución del que solamente podríamos salir parando el proceso del mismo (con un Ctrl+C, por ejemplo)."
   ]
  },
  {
   "cell_type": "markdown",
   "metadata": {},
   "source": [
    "### CASE"
   ]
  },
  {
   "cell_type": "markdown",
   "metadata": {},
   "source": [
    "Con **CASE** podemos comparar el valor de una variable con otros valores distintos y actuar en consecuencia. Su sintaxis es la siguiente:"
   ]
  },
  {
   "cell_type": "markdown",
   "metadata": {},
   "source": [
    "CASE $variable IN<br>\n",
    "&emsp;&emsp;patron1 )<br>\n",
    "&emsp;&emsp;&emsp;&emsp;(Se ejecuta el comando 1)<br>\n",
    "&emsp;&emsp;;;<br>\n",
    "&emsp;&emsp;patron2 )<br>\n",
    "&emsp;&emsp;&emsp;&emsp;(Se ejecuta el comando 2)<br>\n",
    "&emsp;&emsp;;;<br>\n",
    "&emsp;&emsp;patron3 )<br>\n",
    "&emsp;&emsp;&emsp;&emsp;(Se ejecuta el comando 3)<br>\n",
    "&emsp;&emsp;;;<br>\n",
    "ESAC\n"
   ]
  },
  {
   "cell_type": "markdown",
   "metadata": {},
   "source": [
    "Este código permite realizar una selección simple entre _n_ elementos, los cuales debemos enumerarlos por separado junto a la acción que tendrá que desarrollarse si se selecciona dicho patrón."
   ]
  },
  {
   "cell_type": "code",
   "execution_count": null,
   "metadata": {
    "collapsed": true
   },
   "outputs": [],
   "source": [
    "#!/bin/bash\n",
    "echo \"  1. Sumar 5+5\"\n",
    "echo \"  2. Restar 8-4\"\n",
    "echo \"  3. Multiplicar 10x10\"\n",
    "echo \"  4. Dividir 4/2\"\n",
    "read -p \"Realiza tu selección: \" selec\n",
    "case $selec in\n",
    "        1)\n",
    "             echo \"El resultado es 10\"\n",
    "        ;;\n",
    "        2)\n",
    "             echo \"El resultado es 4\"\n",
    "        ;;\n",
    "        3)\n",
    "             echo \"El resultado es 100\"\n",
    "        ;;\n",
    "        4)\n",
    "             echo \"El resultado es 2\"\n",
    "       ;;\n",
    "esac"
   ]
  },
  {
   "cell_type": "markdown",
   "metadata": {},
   "source": [
    "Según lo que elija el usuario y como el resultado de las operaciones ya lo hemos preestablecido de antemano, nos aparecerá directamente al seleccionar la opción deseada. Al no incorporar ningún método de control del flujo de información, cuando se seleccione la opción y se ejecute el comando para mostrar la información solicitada, saldremos del script.\n",
    "\n",
    "Por ello es bueno utilizarlo con métodos de control del flujo de ejecución (o la propia sentencia **SELECT** como ya hemos visto en un ejemplo anterior) si queremos mantenernos dentro del script hasta seleccionar una opción concreta."
   ]
  },
  {
   "cell_type": "markdown",
   "metadata": {},
   "source": [
    "## WHILE"
   ]
  },
  {
   "cell_type": "markdown",
   "metadata": {},
   "source": [
    "Este condicional de repetición (bucle) es útil para recorrer una lista mientras la evaluación de la operación sea verdadera, es decir, con while repetiremos una lista de comandos siempre que la condición sea cierta.\n",
    "\n",
    "En el momento en que la condición evaluada no se adecúe a la condición inicial, saldremos del bucle. Hay que recordar que con **while** se comprueba la condición antes de ejecutar los comandos, con lo cual puede que no se ejecuten ni una sola vez.\n",
    "\n",
    "También disponemos de la estructura **until**, cuyo funcionamiento es similar a **while**, solo que en esta ocasión la condición sera negada (es decir, se repetirá mientras la condición evaluada sea falsa, en vez de repetirla mientras la condición sea cierta,como sucedería con **while**)."
   ]
  },
  {
   "cell_type": "markdown",
   "metadata": {},
   "source": [
    "### Sintaxis"
   ]
  },
  {
   "cell_type": "markdown",
   "metadata": {},
   "source": [
    "WHILE [ condición ];<br>\n",
    "DO<br>\n",
    "&emsp;&emsp;(comando1)<br>\n",
    "&emsp;&emsp;(comando2)<br>\n",
    "&emsp;&emsp;(comando3)<br>\n",
    "&emsp;&emsp;....<br>\n",
    "DONE"
   ]
  },
  {
   "cell_type": "markdown",
   "metadata": {},
   "source": [
    "La forma coloquial de expresarla sería “mientras que la condición sea la indicada, ejecuta los siguientes comandos”. Como podemos observar, podemos introducir tantos comandos a ejecutar como necesitemos, pero en el momento en que se modifique la condición inicial de la línea principal de **while**, se interrumpirá el flujo de información dentro del bucle y volverá a la ejecución principal del script."
   ]
  },
  {
   "cell_type": "markdown",
   "metadata": {},
   "source": [
    "### Ejemplo"
   ]
  },
  {
   "cell_type": "code",
   "execution_count": null,
   "metadata": {},
   "outputs": [],
   "source": [
    "#!/bin/bash\n",
    "num=0\n",
    "while [ $num -le 10 ];\n",
    "do\n",
    "       echo \"\\$num: $num\"\n",
    "       let num=$num+1\n",
    "done"
   ]
  },
  {
   "cell_type": "markdown",
   "metadata": {},
   "source": [
    "Otra forma de utilizar **while** es por medio de variables de control externas, es decir, usamos el valor de una variable para controlar el flujo de ejecución DENTRO del bucle.\n",
    "\n",
    "Por ejemplo, necesitamos que el bucle se ejecute mientras el valor de una variable sea 1. Por medio de un condicional, le podemos decir al bucle que deje de ejecutarse simplemente cambiando el valor de la variable de control al darse la condición precisa."
   ]
  },
  {
   "cell_type": "code",
   "execution_count": null,
   "metadata": {
    "collapsed": true
   },
   "outputs": [],
   "source": [
    "#!/bin/bash\n",
    "ctrl=0   # Inicializamos la variable de control\n",
    "while [[ $ctrl = \"0\" ]]; do\n",
    "       read -p \"Introduce el número 5: \" num\n",
    "       if [[ \"$num\" -eq \"5\" ]]; then\n",
    "            echo \"El número introducido es el 5!!\"\n",
    "            ctrl=\"1\" # Interrumpimos del bucle cambiando el valor de la variable\n",
    "       else\n",
    "             echo \"El número introducido no es el 5\"\n",
    "       fi\n",
    "done"
   ]
  },
  {
   "cell_type": "markdown",
   "metadata": {},
   "source": [
    "También se puede hacer que el usuario nos facilite el valor de la variable que condicionará la ejecución del bucle."
   ]
  },
  {
   "cell_type": "code",
   "execution_count": null,
   "metadata": {
    "collapsed": true
   },
   "outputs": [],
   "source": [
    "#!/bin/bash\n",
    "read -p \"Elige un número entre 1 y 50: \" num\n",
    "if [[ $num -lt 1 || $num -gt 50 ]]; then\n",
    "       echo \"El número está fuera de rango.\"\n",
    "else\n",
    "       while [[ $var != $num ]]; do\n",
    "            let var=$var+1\n",
    "            echo \"El número elegido NO es \"$var\n",
    "       done\n",
    "       echo \"El número elegido es \" $var\n",
    "  fi"
   ]
  },
  {
   "cell_type": "markdown",
   "metadata": {},
   "source": [
    "### UNTIL"
   ]
  },
  {
   "cell_type": "markdown",
   "metadata": {},
   "source": [
    "Esta estructura es muy similar a **while**, como ya hemos mencionado, pero en lugar de ejecutar el bucle mientras que la condición sea verdadera, se ejecuta mientras la condición sea falsa. Coloquialmente hablando, sería como decir “hasta que la condición no sea la indicada, ejecuta los comandos siguientes”. Podríamos decir que es un **while**, pero a la inversa."
   ]
  },
  {
   "cell_type": "markdown",
   "metadata": {},
   "source": [
    "### Ejemplo"
   ]
  },
  {
   "cell_type": "code",
   "execution_count": null,
   "metadata": {
    "collapsed": true
   },
   "outputs": [],
   "source": [
    "#!/bin/bash\n",
    "num=0\n",
    "until [ $num -gt 10 ];\n",
    "do\n",
    "    echo \"\\$num: $num\"\n",
    "    let num=$num+1\n",
    "done"
   ]
  },
  {
   "cell_type": "markdown",
   "metadata": {},
   "source": [
    "El script sería algo como “mientras la variable no sea mayor de 10, suma 1 a su valor y muéstralo en la salida estándar\". Este ejemplo es el mismo que hemos utilizado con **while**, pero modificando el enfoque del condicional.\n",
    "\n",
    "La salida será exactamente igual a la del ejemplo con **while**."
   ]
  },
  {
   "cell_type": "markdown",
   "metadata": {},
   "source": [
    "## FOR"
   ]
  },
  {
   "cell_type": "markdown",
   "metadata": {},
   "source": [
    "Los bucles **for** son elementos que nos permiten recorrer una estructura o lista de elementos y ejecutar los comandos que queramos durante un cierto número de veces, asignando valores a la variable principal del bucle tantas veces como elementos existan en la lista.\n",
    "\n",
    "El funcionamiento de **for** en un BashScript es distinto del funcionamiento tradicional de **for** en lenguajes como C o Java. La sintaxis básica en BashScript sería la siguiente:"
   ]
  },
  {
   "cell_type": "markdown",
   "metadata": {},
   "source": [
    "FOR variable IN lista<br>\n",
    "DO<br>\n",
    "&emsp;&emsp;(comandos)<br>\n",
    "DONE"
   ]
  },
  {
   "cell_type": "markdown",
   "metadata": {},
   "source": [
    "La estructura de ejemplo en BashScript que acabamos de ver irá asignando a la variable el valor de cada uno de los elementos de la lista y ejecutará los comandos tantas veces como elementos tenga la lista."
   ]
  },
  {
   "cell_type": "markdown",
   "metadata": {},
   "source": [
    "### Ejemplo"
   ]
  },
  {
   "cell_type": "markdown",
   "metadata": {},
   "source": [
    "Listar los ficheros en un directorio junto a un breve texto y la numeración de cada fichero existente en el directorio."
   ]
  },
  {
   "cell_type": "code",
   "execution_count": null,
   "metadata": {
    "collapsed": true
   },
   "outputs": [],
   "source": [
    "#!/bin/bash\n",
    "num=0\n",
    "for fichero in $(ls .)\n",
    "do\n",
    "       let num=$num+1\n",
    "       echo $num\" - Este es el fichero\" $fichero\n",
    "done"
   ]
  },
  {
   "cell_type": "markdown",
   "metadata": {},
   "source": [
    "## FOR al estilo C"
   ]
  },
  {
   "cell_type": "markdown",
   "metadata": {},
   "source": [
    "FOR (( expr1 ; expr2 ; expr3 ))<br>\n",
    "DO<br>\n",
    "&emsp;&emsp;lista comandos<br>\n",
    "DONE\n"
   ]
  },
  {
   "cell_type": "code",
   "execution_count": null,
   "metadata": {
    "collapsed": true
   },
   "outputs": [],
   "source": [
    "En primer lugar, la expresión 1 (expr1) es evaluada según las reglas descritas en el script.\n",
    "\n",
    "La expresión 2 (expr2) se evalúa de forma repetida hasta que se evalúa a cero.\n",
    "\n",
    "Cada vez que la expresión 2 (expr2) se evalúa de otra forma distinta a cero (!=0),\n",
    "la lista de comandos se ejecuta y la tercera expresión (expr3) es evaluada.\n",
    "\n",
    "Si cualquier expresión es omitida, se evalúa a 1. El valor de retorno es el estado de\n",
    "salida del último comando que se ejecuta en la lista. Si cualquiera de las expresiones es\n",
    "inválida, devuelve un estado “false”."
   ]
  },
  {
   "cell_type": "markdown",
   "metadata": {},
   "source": [
    "### Ejemplo"
   ]
  },
  {
   "cell_type": "code",
   "execution_count": null,
   "metadata": {
    "collapsed": true
   },
   "outputs": [],
   "source": [
    "#!/bin/bash\n",
    "limite=10\n",
    "\n",
    "for (( a=1; a <= limite ; a++ ))\n",
    "do\n",
    "    echo -n \"$a \"\n",
    "done\n",
    "\n",
    "echo;"
   ]
  },
  {
   "cell_type": "code",
   "execution_count": null,
   "metadata": {
    "collapsed": true
   },
   "outputs": [],
   "source": []
  }
 ],
 "metadata": {
  "kernelspec": {
   "display_name": "Bash",
   "language": "bash",
   "name": "bash"
  },
  "language_info": {
   "codemirror_mode": "shell",
   "file_extension": ".sh",
   "mimetype": "text/x-sh",
   "name": "bash"
  }
 },
 "nbformat": 4,
 "nbformat_minor": 2
}
