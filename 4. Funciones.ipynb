{
 "cells": [
  {
   "cell_type": "markdown",
   "metadata": {},
   "source": [
    "# <center>UNIVERSIDAD VERACRUZANA</center>\n",
    "![alt text](http://www.uv.mx/mneuro/files/2015/06/banner-logosimbolo-UV.jpg \"logo UV\")\n",
    "## <center>Intérprete de comandos BASH</center>\n",
    "## <center>Funciones</center>\n",
    "## <center>Ricardo Carrera Hernández</center>"
   ]
  },
  {
   "cell_type": "markdown",
   "metadata": {},
   "source": [
    "En programación, una función no es más que un grupo de comandos a los que podemos llamar para ejecutar algo concreto. Las funciones se suelen crear con un propósito concreto para que, pasándole unos valores de referencia durante la llamada, se ejecuten las órdenes pertinentes con el fin de procesar la entrada de datos y que nos devuelva la salida que necesitemos. Esto se logra utilizando **RETURN** en lugar de **EXIT** para salir de la función una vez finalizada. Si solamente necesitamos procesar una variable, nos valdría con capturar el valor de dicha variable al finalizar la función."
   ]
  },
  {
   "cell_type": "markdown",
   "metadata": {},
   "source": [
    "FUNCTION funcion( ) {<br>\n",
    "&emsp;&emsp;código<br>\n",
    "&emsp;&emsp;código<br>\n",
    "&emsp;&emsp;código<br>\n",
    "}"
   ]
  },
  {
   "cell_type": "markdown",
   "metadata": {},
   "source": [
    "Al crear la función introducir meter tantos comandos y llamadas a otras funciones como necesitemos con el fin de que nuestra función nos devuelva el valor que nos hace falta o realice algún cometido en concreto."
   ]
  },
  {
   "cell_type": "markdown",
   "metadata": {},
   "source": [
    "En el siguiente ejemplo, vamos a ver cómo se procesa el valor de la variable $1 (que es la que se pasa al invocar la función) y la propia función se encargará de realizar ciertas comprobaciones:"
   ]
  },
  {
   "cell_type": "code",
   "execution_count": null,
   "metadata": {
    "collapsed": true
   },
   "outputs": [],
   "source": [
    "#!/bin/bash\n",
    "function procesa() {\n",
    "       if [ -z  class=$1 ]; then\n",
    "             echo \"La variable está vacía.\"\n",
    "             return 0\n",
    "       else\n",
    "             chain=$1\n",
    "             chain2=`echo ${chain:0:1} | awk '{print toupper($0)}'`\n",
    "             chain3=$chain2${chain:1}\n",
    "             echo \"Has escrito \"$chain3\n",
    "       fi\n",
    "}\n",
    "\n",
    "read -p \"Escribe alguna palabra... \" word\n",
    "procesa $word\n",
    "echo \"Has escrito \"$chain3\n"
   ]
  },
  {
   "cell_type": "markdown",
   "metadata": {},
   "source": [
    "Esta función tan sencilla lo que hace es convertir la inicial de la cadena que le pasemos a mayúscula. La ejecución de esta función nos devuelve 0 o el valor de la cadena con la inicial en mayúscula, según el caso."
   ]
  },
  {
   "cell_type": "markdown",
   "metadata": {},
   "source": [
    "### Llamadas a funciones"
   ]
  },
  {
   "cell_type": "markdown",
   "metadata": {},
   "source": [
    "Para que nuestra función sea útil, debemos invocarla desde algún punto del script. La forma de invocarla es bastante simple, pero deberemos tener en cuenta si la llamada se hace esperando un parámetro o si se solicitará el valor desde dentro de la propia función. Si vemos que en el interior de la función, se trabaja con las variables genéricas $?, $1-$9, etc., entonces será necesario invocar a la función con los parámetros necesarios. En caso de no hacerlo así, el script debería avisarnos del error."
   ]
  },
  {
   "cell_type": "code",
   "execution_count": null,
   "metadata": {
    "collapsed": true
   },
   "outputs": [],
   "source": []
  }
 ],
 "metadata": {
  "kernelspec": {
   "display_name": "Bash",
   "language": "bash",
   "name": "bash"
  },
  "language_info": {
   "codemirror_mode": "shell",
   "file_extension": ".sh",
   "mimetype": "text/x-sh",
   "name": "bash"
  }
 },
 "nbformat": 4,
 "nbformat_minor": 2
}
