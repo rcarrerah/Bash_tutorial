{
 "cells": [
  {
   "cell_type": "markdown",
   "metadata": {},
   "source": [
    "# <center>UNIVERSIDAD VERACRUZANA</center>\n",
    "![alt text](http://www.uv.mx/mneuro/files/2015/06/banner-logosimbolo-UV.jpg \"logo UV\")\n",
    "## <center>Intérprete de comandos BASH</center>\n",
    "## <center>Uso de Variables</center>\n",
    "## <center>Ricardo Carrera Hernández</center>"
   ]
  },
  {
   "cell_type": "markdown",
   "metadata": {},
   "source": [
    "En BashScript, las variables se definen sin necesidad de establecer su tipo, ya\n",
    "que se hace de forma dinámica, es decir, no hace falta en principio indicar si son de tipo entero,\n",
    "cadena, booleano, etc... ya que es el propio sistema el que establecerá el tipo de valor de la\n",
    "variable en función de la necesidad de la operación.\n",
    "\n",
    "Para establecer el valor de una variable en BashScript, es tan sencillo como invocarla junto al valor que queremos darle.\n",
    "\n",
    "Las variables pueden ser creadas en cualquier momento, pero es mejor hacerlo justo antes de su primera\n",
    "utilización, escribiendo:"
   ]
  },
  {
   "cell_type": "markdown",
   "metadata": {},
   "source": [
    "**nombre_variable=valor_variable**"
   ]
  },
  {
   "cell_type": "markdown",
   "metadata": {},
   "source": [
    "**Ejemplo**:"
   ]
  },
  {
   "cell_type": "code",
   "execution_count": null,
   "metadata": {
    "collapsed": true
   },
   "outputs": [],
   "source": [
    "var1=2\n",
    "var2=4"
   ]
  },
  {
   "cell_type": "markdown",
   "metadata": {},
   "source": [
    "Cuando se desea realizar algún tipo de operación con una variable (no solo mostrar su valor),\n",
    "ésta debe ir precedida del símbolo del dólar “**$**” que es lo que nos permite obtener el valor de\n",
    "la variable en el momento justo en el que lo necesitemos para usarlo adecuadamente."
   ]
  },
  {
   "cell_type": "code",
   "execution_count": null,
   "metadata": {
    "collapsed": true
   },
   "outputs": [],
   "source": [
    "let var3=$var1+var2\n",
    "echo \"La variable var3 tiene el valor de: \" $var3"
   ]
  },
  {
   "cell_type": "code",
   "execution_count": null,
   "metadata": {
    "collapsed": true
   },
   "outputs": [],
   "source": [
    "var4=\"Hola mundo\"\n",
    "echo $var4"
   ]
  },
  {
   "cell_type": "markdown",
   "metadata": {},
   "source": [
    "**Ejemplo**:"
   ]
  },
  {
   "cell_type": "code",
   "execution_count": null,
   "metadata": {
    "collapsed": true
   },
   "outputs": [],
   "source": [
    "#!/bin/bash\n",
    "# Asignamos valores a las variables\n",
    "var1=1\n",
    "var2=2\n",
    "# Mostramos los valores de las variables\n",
    "echo \"La variable var1 vale: \" $var1\n",
    "echo \"La variable var2 vale: \" $var2\n",
    "# Realizamos la operación y la almacenamos en una nueva variable\n",
    "let var3=$var1+$var2\n",
    "# Mostramos el valor de la variable resultado\n",
    "echo \"La variable var3 tiene un valor de: \" $var3"
   ]
  },
  {
   "cell_type": "markdown",
   "metadata": {},
   "source": [
    "Dos tipos diferentes de variables no podrán interactuar entre si.\n",
    "\n",
    "Por ejemplo, si queremos sumar el valor de la variable 1 (**$var1**) a la palabra “dos”, que es una\n",
    "cadena de texto, el sistema nos dirá que es imposible y nos arrojará un error."
   ]
  },
  {
   "cell_type": "markdown",
   "metadata": {},
   "source": [
    "Muchos de los errores mas comunes vienen de no tener un control del tipo de variable con el que estamos\n",
    "trabajando en cada momento, por lo que deberemos tener cuidado a la hora de realizar\n",
    "operaciones entre ellas y aprender a usar variables globales y locales.\n",
    "\n",
    "Las variables locales pueden crearse utilizando la palabra clave **local**."
   ]
  },
  {
   "cell_type": "markdown",
   "metadata": {},
   "source": [
    "**Ejemplo**"
   ]
  },
  {
   "cell_type": "code",
   "execution_count": null,
   "metadata": {
    "collapsed": true
   },
   "outputs": [],
   "source": [
    "#!/bin/bash\n",
    "HOLA=\"Hola\"\n",
    "\n",
    "function hola {\n",
    "    local HOLA=\"Mundo\"\n",
    "    echo $HOLA\n",
    "}\n",
    "\n",
    "echo $HOLA     # Imprime el valor de HOLA global\n",
    "\n",
    "hola           # Imprime el valor de HOLA local (dentro de la función)\n",
    "\n",
    "echo $HOLA     # Imprime el valor de HOLA global otra vez"
   ]
  },
  {
   "cell_type": "markdown",
   "metadata": {},
   "source": [
    "### Variables intrínsecas de Bash"
   ]
  },
  {
   "cell_type": "markdown",
   "metadata": {},
   "source": [
    "Estas variables son elaboradas por defecto por el propio Bash y son:\n",
    "\n",
    "*+$0** → Nombre del guión\n",
    "\n",
    "**$1....$n** → Variables que almacenan los n argumentos (opciones) proporcionados al comando invocado.\n",
    "\n",
    "**$#**→Variable que contiene el total de los argumentos proporcionados (devuelve un número).\n",
    "\n",
    "**$*** → Conjunto de los argumentos.\n",
    "\n",
    "**$?** → Valor de ejecución del comando anterior, si es cero es que el comando anterior se ejecutó sin errores, de lo contrario hubo algún error.\n",
    "\n",
    "**$$** → Identifica el proceso del flujo.\n",
    "\n",
    "**$!** → Identifica el último proceso arrancado en el trasfondo (background).\n",
    "\n",
    "Estas variables suelen usarse habitualmente cuando se invoca un comando externo o función\n",
    "interna del script.\n",
    "\n",
    "Es la mejor forma de _referenciar_ (pasar por referencia) un parámetro para\n",
    "trabajar con él a través del código que estemos generando."
   ]
  },
  {
   "cell_type": "markdown",
   "metadata": {},
   "source": [
    "### Caracteres especiales"
   ]
  },
  {
   "cell_type": "markdown",
   "metadata": {},
   "source": [
    "**\\** : Le indica a Bash que ignore el caracter especial que viene después. Se usa generalmente para introducir funcionalidades al código, como saltos de línea.\n",
    "\n",
    "**\" \"** : Cuando se encierra entre comillas dobles un texto o una variable, si se trata de una frase (cadena de palabras) Bash lo interpretará como una cadena única.\n",
    "\n",
    "**$** : Identifica que lo que sigue al caracter es una variable.\n",
    "\n",
    "**' '** : Las comillas simples se usan para desactivar todos los caracteres especiales encerrados dentro de ellas.\n",
    "Si se escribe, por ejemplo, '$variable', Bash interpretará literalmente lo escrito y no su valor como variable.\n",
    "\n",
    "**\\#** : Cuando se coloca este caracter dentro de una línea del script, Bash ignora el resto de la línea. Muy útil\n",
    "para hacer comentarios y anotaciones o para inhabilitar una línea de comandos para hacer pruebas.\n",
    "\n",
    "**;** : Este caracter se usa para separar la ejecución de distintos comandos en una misma línea de comandos.\n",
    "\n",
    "**' '** : Se utiliza para convertir la salida de un comando en una variable. El comando se ejecuta como una subshell."
   ]
  },
  {
   "cell_type": "markdown",
   "metadata": {
    "collapsed": true
   },
   "source": [
    "Las comillas simples y el carácter “\\“ hacen que Bash ignore la función de cualquier carácter especial, lo que se llama “escapado” o escape.\n",
    "\n",
    "Aunque la diferencia entre ambos es que las comillas simples harán que se ignore todos los meta-carácteres encerrados entre ellas y el carácter “\\“solo el que sigue después."
   ]
  },
  {
   "cell_type": "markdown",
   "metadata": {},
   "source": [
    "También disponemos de un listado con algunas de las opciones genéricas para utilizar junto a\n",
    "escape con las que trabajar en Bash:\n",
    "\n",
    "**\\a** :  Carácter de campana ASCII (07)\n",
    "\n",
    "**\\d** : Fecha en formato día\n",
    "\n",
    "**\\e** : Carácter de escape ASCII (033)\n",
    "\n",
    "**\\h** : Nombre de la máquina (solo host)\n",
    "\n",
    "**\\H** : Nombre completo de la máquina (FQDN)\n",
    "\n",
    "**\\n** : Carácter de nueva línea (salto de línea)\n",
    "\n",
    "**\\r** : Retorno de carro\n",
    "\n",
    "**\\s** : Nombre de la shell, el nombre base de $0\n",
    "\n",
    "**\\t** : Hora actual en formato 24h.( HH:MM:SS)\n",
    "\n",
    "**\\T** : Hora actual en formato 12h. (HH:MM:SS)\n",
    "\n",
    "**\\@** : Hora actual en formato 12h. (AM/PM)\n",
    "\n",
    "**\\u** : Nombre del usuario actual ($USER)\n",
    "\n",
    "**\\v** : Versión de Bash\n",
    "\n",
    "**\\V** : Versión del paquete Bash (Versión + patch-level)\n",
    "\n",
    "**\\w** : Directorio actual de trabajo (como pwd)\n",
    "\n",
    "**\\W** : Nombre base del directorio actual de trabajo\n",
    "\n",
    "**\\!** : Número del comando actual en el histórico de comandos (history)\n",
    "\n",
    "**\\#** : Numero de comando del comando actual\n",
    "\n",
    "**\\$** : Si el UID efectivo es 0, tiene un valor #; en cualquier otro caso, vale $\n",
    "\n",
    "**\\nnn** : Carácter correspondiente al número en octal nnn\n",
    "\n",
    "**\\\\** : Contra-barra\n",
    "\n",
    "**\\[** : Inicio de una secuencia de caracteres no imprimibles que pueden usarse para incrustar\n",
    "una secuencia de control del terminal en el PROMPT\n",
    "\n",
    "**\\]** : Fin de una secuencia de caracteres no imprimibles"
   ]
  },
  {
   "cell_type": "markdown",
   "metadata": {},
   "source": [
    "### Palabras especiales"
   ]
  },
  {
   "cell_type": "markdown",
   "metadata": {},
   "source": [
    "Hay un grupo de palabras que tienen significado especial para Bash y que siempre que se pueda deberá evitarse el uso cuando se escriben líneas de comandos para no crear \"confusiones\". Algunas de las más importantes son:\n",
    "\n",
    "**exit**          Se sale del flujo de ejecución\n",
    "\n",
    "**break**         Se envía explícitamente a salir de un bucle\n",
    "\n",
    "**continue**      Se envía explícitamente a retornar en un bucle\n",
    "\n",
    "**return**        Como exit pero solo se sale del comando u operación sin cerrar el flujo\n",
    "\n",
    "**true**          Indica que una condición es verdadera\n",
    "\n",
    "**false**         Indica que una condición es falsa"
   ]
  },
  {
   "cell_type": "markdown",
   "metadata": {},
   "source": [
    "### Asignación de variables por interacción del usuario"
   ]
  },
  {
   "cell_type": "markdown",
   "metadata": {},
   "source": [
    "Muchas veces nos hará falta asignar el valor de una variable “al vuelo” durante la ejecución del script por medio de un usuario.\n",
    "\n",
    "Para ello, tendremos que usar la orden “read”, que nos permitirá paralizar el script momentáneamente y esperar a que el usuario haya introducido el valor requerido para almacenarlo en una variable concreta.\n",
    "\n",
    "Si hacemos un read sin asignar variable, el dato se almacenará en $REPLY, una variable del sistema. No es bueno abusar de esta orden en un script, puesto que perderemos parte de la automatización que buscamos al tener que parar la ejecución del script cada poco tiempo para solicitar nuevos datos al usuario.\n",
    "\n",
    "El modo de uso de la orden read es el siguiente:"
   ]
  },
  {
   "cell_type": "code",
   "execution_count": null,
   "metadata": {
    "collapsed": true
   },
   "outputs": [],
   "source": [
    "read variable"
   ]
  },
  {
   "cell_type": "markdown",
   "metadata": {},
   "source": [
    "Donde “**variable**” será la variable donde se almacenará el valor que el usuario inserte.\n",
    "\n",
    "Por si solo, esto no significa nada para el usuario que está ejecutando el script, ya que no ofrece ningún aviso de que está esperando una interacción.\n",
    "\n",
    "Por ello, lo mejor es utilizarlo con la opción siguiente:"
   ]
  },
  {
   "cell_type": "code",
   "execution_count": null,
   "metadata": {
    "collapsed": true
   },
   "outputs": [],
   "source": [
    "read -p “Introduce el valor requerido y pulsa Enter: ” var"
   ]
  },
  {
   "cell_type": "markdown",
   "metadata": {},
   "source": [
    "Esto muestra el mensaje “Introduce el valor requerido y pulsa Enter” para que el usuario realice la acción correspondiente y así pueda almacenar el valor introducido por el usuario en la variable “var”.\n",
    "\n",
    "El valor de la variable solo se almacenará cuando el usuario presione la tecla “Enter”.\n",
    "\n",
    "A continuación podemos validar visualmente el valor de la variable para que el usuario compruebe que efectivamente, el valor es el correcto, usando la orden **echo**:"
   ]
  },
  {
   "cell_type": "code",
   "execution_count": null,
   "metadata": {
    "collapsed": true
   },
   "outputs": [],
   "source": [
    "echo “Has establecido un valor de “ $var “ para la variable var”."
   ]
  },
  {
   "cell_type": "markdown",
   "metadata": {},
   "source": [
    "Es posible que necesitemos que el texto a introducir por parte del usuario no se muestre (por ejemplo, si queremos que escriba un PIN (Personal Identification Number) y no queremos que se muestre por pantalla). En ese lugar, necesitaremos una orden adicional al invocar a read:"
   ]
  },
  {
   "cell_type": "code",
   "execution_count": null,
   "metadata": {
    "collapsed": true
   },
   "outputs": [],
   "source": [
    "read -s -p “Introduce el PIN: “ pin1"
   ]
  },
  {
   "cell_type": "markdown",
   "metadata": {},
   "source": [
    "Esto nos permitirá almacenar en una variable el valor de una contraseña (PIN) introducida por el usuario, pero de forma que no aparezca mientras se escribe.\n",
    "\n",
    "Para cerciorarnos que el usuario ha escrito correctamente el PIN, podemos almacenar una segunda vez el PIN en otra variable para luego compararlos con una estructura de control y si son iguales, continuar con el script o, en caso contrario, volver a solicitar el número al usuario."
   ]
  },
  {
   "cell_type": "markdown",
   "metadata": {},
   "source": [
    "### Operadores"
   ]
  },
  {
   "cell_type": "markdown",
   "metadata": {},
   "source": [
    "Para realizar comparaciones en BashScript, únicamente deberemos tener en cuenta los siguientes operadores:"
   ]
  },
  {
   "cell_type": "markdown",
   "metadata": {},
   "source": [
    "#### Comparación de números enteros:\n",
    "\n",
    "<table>\n",
    "<tr>\n",
    "<td>-**eq**</td>\n",
    "<td>Equal (es igual a)</td>\n",
    "<td>if [ \"$a\" -eq \"$b\" ]</td>\n",
    "</tr>\n",
    "\n",
    "<tr>\n",
    "<td>**-ne**</td>\n",
    "<td>Not Equal (no es igual a / es distinto a)</td>\n",
    "<td>if [ \"$a\" -ne \"$b\" ]</td>\n",
    "</tr>\n",
    "\n",
    "<tr>\n",
    "<td>**-gt**</td>\n",
    "<td>Greater Than (es mayor que)</td>\n",
    "<td>if [ \"$a\" -gt \"$b\" ]</td>\n",
    "</tr>\n",
    "\n",
    "<tr>\n",
    "<td>**-ge**</td>\n",
    "<td>Greater Equal (es mayor que o igual a)</td>\n",
    "<td>if [ \"$a\" -ge \"$b\" ]</td>\n",
    "</tr>\n",
    "\n",
    "<tr>\n",
    "<td>**-lt**</td>\n",
    "<td>Lower Than (es menor que)</td>\n",
    "<td>if [ \"$a\" -lt \"$b\" ]</td>\n",
    "</tr>\n",
    "\n",
    "<tr>\n",
    "<td>**-le**</td>\n",
    "<td>Lower Equal (es menor que o igual a)</td>\n",
    "<td>if [ \"$a\" -le \"$b\" ]</td>\n",
    "</tr>\n",
    "\n",
    "<tr>\n",
    "<td>**<**</td>\n",
    "<td>Menor que (usar con doble paréntesis)</td>\n",
    "<td>((\"$a\" < \"$b\"))</td>\n",
    "</tr>\n",
    "\n",
    "<tr>\n",
    "<td>**<=**</td>\n",
    "<td>Menor que o igual a (usar con doble paréntesis)</td>\n",
    "<td>((\"$a\" <= \"$b\"))</td>\n",
    "</tr>\n",
    "\n",
    "<tr>\n",
    "<td>**>**</td>\n",
    "<td>Mayor que (usar con doble paréntesis)</td>\n",
    "<td>((\"$a\" > \"$b\"))</td>\n",
    "</tr>\n",
    "</table>\n"
   ]
  },
  {
   "cell_type": "markdown",
   "metadata": {
    "collapsed": true
   },
   "source": [
    "#### Comparación de cadenas"
   ]
  },
  {
   "cell_type": "markdown",
   "metadata": {},
   "source": [
    "<table>\n",
    "<tr>\n",
    "<td>**=**</td>\n",
    "<td>Igual a</td>\n",
    "<td>if [ \"$a\" = \"$b\" ]</td>\n",
    "</tr>\n",
    "\n",
    "<tr>\n",
    "<td>**=**=</td>\n",
    "<td>Igual a</td>\n",
    "<td>if [ \"$a\" == \"$b\" ]</td>\n",
    "</tr>\n",
    "\n",
    "<tr>\n",
    "<td>**!=**</td>\n",
    "<td>No igual a / Distinto a</td>\n",
    "<td>if [ \"$a\" != \"$b\" ]</td>\n",
    "</tr>\n",
    "\n",
    "<tr>\n",
    "<td>**<**</td>\n",
    "<td>Menor que (orden alfabético ASCII)</td>\n",
    "<td>if [[ \"$a\" < \"$b\" ]]</td>\n",
    "</tr>\n",
    "\n",
    "<tr>\n",
    "<td>**>**</td>\n",
    "<td>Mayor que (orden alfabético ASCII)</td>\n",
    "<td>if [[ \"$a\" > \"$b\" ]]</td>\n",
    "</tr>\n",
    "\n",
    "<tr>\n",
    "<td>**-z**</td>\n",
    "<td>Cadena vacía (null) o de longitud cero</td>\n",
    "<td>if [ -z “$cadena” ]</td>\n",
    "</tr>\n",
    "\n",
    "<tr>\n",
    "<td>**-n**</td>\n",
    "<td>Cadena no vacía (con contenido)</td>\n",
    "<td>if [ -n “$cadena” ]</td\n",
    "</tr>\n",
    "</table>\n"
   ]
  },
  {
   "cell_type": "markdown",
   "metadata": {},
   "source": [
    "Aunque “=” es un sinónimo del operador “==”, se comporta diferente cuando se usa\n",
    "dentro de corchetes dobles en lugar de simples, por ejemplo:\n",
    "\n",
    "<table>\n",
    "<tr>\n",
    "<td>\\[[ $a == b* ]]</td>\n",
    "<td># Verdadero si \\$a empieza con una \"b\" (expresión regular coincide).</td>\n",
    "</tr>\n",
    "\n",
    "<tr>\n",
    "<td>\\[[ $a == \"b*\" ]]</td>\n",
    "<td># Verdadero si \\$a es igual a b* (coincidencia literal).</td>\n",
    "</tr>\n",
    "\n",
    "<tr>\n",
    "<td>[ $a == b* ]</td>\n",
    "<td># Verdadero si existe división de palabras.</td>\n",
    "</tr>\n",
    "\n",
    "<tr>\n",
    "<td>[ \"$a\" == \"b*\" ]</td>\n",
    "<td># Verdadero si \\$a es igual a b* (coincidencia literal).</td>\n",
    "</tr>\n",
    "</table>\n"
   ]
  },
  {
   "cell_type": "markdown",
   "metadata": {},
   "source": [
    "Los operadores “<” y “>” necesitan ser escapados dentro de corchetes simples.\n",
    "\n",
    "if [ \"$a\" \\< \"$b\" ]\n",
    "\n",
    "if [ \"$a\" \\> \"$b\" ]"
   ]
  },
  {
   "cell_type": "markdown",
   "metadata": {},
   "source": [
    "Todas las condiciones pueden negarse (**! condición** ), sumarse (verdadero si se cumple alguna\n",
    "de las condiciones, p.ej. **condicion1** || **condicion2**) o multiplicarse (solo será verdadero si\n",
    "ambas condiciones son ciertas, p. ej. **condicion1 && condicion2** ).\n",
    "\n",
    "Son las llamadas “Comparaciones lógicas”. Veamos los tipos existentes:"
   ]
  },
  {
   "cell_type": "markdown",
   "metadata": {},
   "source": [
    "<table>\n",
    "<tr>\n",
    "<td>-a</td>\n",
    "<td>Y lógico (and) devuelve “true” si ambas son verdaderas.</td>\n",
    "<td>exp1 -a exp2</td>\n",
    "</tr>\n",
    "\n",
    "<tr>\n",
    "<td>-o</td>\n",
    "<td>O lógico (or) devuelve “true” si alguna de las expresiones son verdaderas.</td>\n",
    "<td>exp1 -o exp2</td>\n",
    "</tr>\n",
    "</table>\n"
   ]
  },
  {
   "cell_type": "markdown",
   "metadata": {},
   "source": [
    "Éstos últimos operadores son similares respectivamente a los operadores de Bash “&&“ (and)\n",
    "y “||” (or) cuando se usan con doble corchete:"
   ]
  },
  {
   "cell_type": "markdown",
   "metadata": {},
   "source": [
    "<table>\n",
    "<tr>\n",
    "<td>[[ condicion1 && condicion2 ]]</td>\n",
    "</tr>\n",
    "<tr>\n",
    "<td>[[ condicion1 || condicion2 ]]</td>\n",
    "</tr>\n",
    "</table>\n"
   ]
  },
  {
   "cell_type": "markdown",
   "metadata": {},
   "source": [
    "Operadores de archivos\n",
    "\n",
    "<table>\n",
    "<tr>\n",
    "<td>-e</td>\n",
    "<td>Verdadero si el archivo existe</td>\n",
    "<td>if [ -e “$archivo” ]</td>\n",
    "</tr>\n",
    "\n",
    "<tr>\n",
    "<td>-L</td>\n",
    "<td>Verdadero si existe y es un enlace simbólico</td>\n",
    "<td>if [ -L “$archivo” ]</td>\n",
    "</tr>\n",
    "\n",
    "<tr>\n",
    "<td>-d</td>\n",
    "<td>Verdadero si existe y es un directorio</td>\n",
    "<td>if [ -d “$directorio” ]</td>\n",
    "</tr>\n",
    "\n",
    "<tr>\n",
    "<td>-f</td>\n",
    "<td>Verdadero si existe y es un archivo regular</td>\n",
    "<td>if [ -f “$archivo” ]</td>\n",
    "</tr>\n",
    "\n",
    "<tr>\n",
    "<td>-r</td>\n",
    "<td>Verdadero si existe y se puede leer (read)</td>\n",
    "<td>if [ -r “$archivo” ]</td>\n",
    "</tr>\n",
    "\n",
    "<tr>\n",
    "<td>-w</td>\n",
    "<td>Verdadero si existe y se puede escribir (write)</td>\n",
    "<td>if [ -w “$archivo” ]</td>\n",
    "</tr>\n",
    "\n",
    "<tr>\n",
    "<td>-x</td>\n",
    "<td>Verdadero si archivo existe y se ejecutable</td>\n",
    "<td>if [ -x “$archivo” ]</td>\n",
    "</tr>\n",
    "\n",
    "<tr>\n",
    "<td>-O</td>\n",
    "<td>Verdadero si \\$USER es dueño del archivo</td>\n",
    "<td>if [ -O “$archivo” ]</td>\n",
    "</tr>\n",
    "\n",
    "<tr>\n",
    "<td>-G</td>\n",
    "<td>Verdadero si el grupo es igual al de \\$USER</td>\n",
    "<td>if [ -G “$archivo” ]</td>\n",
    "</tr>\n",
    "</table>\n"
   ]
  },
  {
   "cell_type": "markdown",
   "metadata": {},
   "source": [
    "Estas operaciones con archivos son las más comunes cuando trabajamos con un script, aunque\n",
    "podemos usar algunas más que nos resultarán útiles en alguna que otra ocasión:"
   ]
  },
  {
   "cell_type": "markdown",
   "metadata": {},
   "source": [
    "<table>\n",
    "<tr>\n",
    "<td>archivo1 -nt archivo2</td>\n",
    "<td>→</td>\n",
    "<td>Verdadero si archivo1 más actual (por fecha de modificación) que\n",
    "archivo2.</td>\n",
    "</tr>\n",
    "\n",
    "<tr>\n",
    "<td>archivo1 -ot archivo2</td>\n",
    "<td>→</td>\n",
    "<td>Verdadero si archivo1 más antiguo que archivo2.</td>\n",
    "</tr>\n",
    "\n",
    "<tr>\n",
    "<td>archivo1 -ef archivo2</td>\n",
    "<td>→</td>\n",
    "<td>Verdadero si archivo1 y archivo2 tiene el mismo número de device e\n",
    "inode.</td>\n",
    "</tr>\n",
    "</table>\n"
   ]
  },
  {
   "cell_type": "markdown",
   "metadata": {},
   "source": [
    "## Colores"
   ]
  },
  {
   "cell_type": "markdown",
   "metadata": {},
   "source": [
    "Como en cualquier otro lenguaje, en BashScript también podemos utilizar coloreado en el texto\n",
    "con el fin de resaltarlo y usarlo para nuestros propósitos. Con tal fin, disponemos de la\n",
    "siguiente codificación:"
   ]
  },
  {
   "cell_type": "markdown",
   "metadata": {},
   "source": [
    "<table>\n",
    "<tr>\n",
    "<td>Negro 0;30</td>\n",
    "<td>Gris oscuro 1;30</td>\n",
    "</tr>\n",
    "\n",
    "<tr>\n",
    "<td>Azul 0;34</td>\n",
    "<td>Verde 0;32</td>\n",
    "</tr>\n",
    "\n",
    "<tr>\n",
    "<td>Cían 0;36</td>\n",
    "<td>Rojo 0;31</td>\n",
    "</tr>\n",
    "\n",
    "<tr>\n",
    "<td>Purpura 0;35</td>\n",
    "<td>Marrón 0;33</td>\n",
    "</tr>\n",
    "\n",
    "<tr>\n",
    "<td>Gris claro 0;37</td>\n",
    "<td>Azul claro 1;34</td>\n",
    "</tr>\n",
    "\n",
    "<tr>\n",
    "<td>Verde claro 1;32</td>\n",
    "<td>Cían claro 1;36</td>\n",
    "</tr>\n",
    "\n",
    "<tr>\n",
    "<td>Rojo claro 1;31</td>\n",
    "<td>Purpura claro 1;35</td>\n",
    "</tr>\n",
    "\n",
    "<tr>\n",
    "<td>Amarillo 1;33</td>\n",
    "<td>Blanco 1;37</td>\n",
    "</tr>\n",
    "</table>\n"
   ]
  },
  {
   "cell_type": "markdown",
   "metadata": {},
   "source": [
    "Utilizarlo es bastante simple, pero requiere de algo de paciencia a la hora de colorear texto.\n",
    "\n",
    "El comando echo se debe de ejecutar con el parámetro -e haciendo que Bash interprete el comando \\e (o sea el escape) de la siguiente manera:"
   ]
  },
  {
   "cell_type": "markdown",
   "metadata": {},
   "source": [
    "\"\\e[CODIGOmtexto\\e[0m\""
   ]
  },
  {
   "cell_type": "markdown",
   "metadata": {},
   "source": [
    "### Ejemplo:"
   ]
  },
  {
   "cell_type": "code",
   "execution_count": null,
   "metadata": {
    "collapsed": true
   },
   "outputs": [],
   "source": [
    "echo -e \"Esto es \\e[1;31mrojo claro\\e[0m y esto es \\e[1;34mazul claro\\e[0m\""
   ]
  },
  {
   "cell_type": "code",
   "execution_count": null,
   "metadata": {
    "collapsed": true
   },
   "outputs": [],
   "source": [
    "#!/bin/bash\n",
    "echo -e \"Así se escribe \\e[1;34mG\\e[0m\\e[1;31mo\\e[0m\\e[1;33mo\\e[0m\\e[1;34mg\\e[0m\\e[1;32ml\\e[0m\\e[1;31me\\e[0m\"\n"
   ]
  },
  {
   "cell_type": "markdown",
   "metadata": {},
   "source": [
    "## Evaluadores aritméticos"
   ]
  },
  {
   "cell_type": "markdown",
   "metadata": {},
   "source": [
    "Cuando en un script necesitamos realizar cálculos aritméticos simples (es decir, que una expresión sea evaluada de forma aritmética) disponemos de dos opciones principales, **let** y **expr**."
   ]
  },
  {
   "cell_type": "markdown",
   "metadata": {},
   "source": [
    "La orden **let** nos permite realizar cálculos simples entre valores de variables o números, por ejemplo:"
   ]
  },
  {
   "cell_type": "code",
   "execution_count": 10,
   "metadata": {
    "collapsed": true
   },
   "outputs": [],
   "source": [
    "var1=2\n",
    "var2=4"
   ]
  },
  {
   "cell_type": "code",
   "execution_count": 11,
   "metadata": {
    "collapsed": true
   },
   "outputs": [],
   "source": [
    "let var3=$var1+$var2"
   ]
  },
  {
   "cell_type": "markdown",
   "metadata": {},
   "source": [
    "Con **expr** podemos realizar también una serie de operaciones en tiempo de ejecución de forma sencilla, por ejemplo:"
   ]
  },
  {
   "cell_type": "code",
   "execution_count": 12,
   "metadata": {},
   "outputs": [
    {
     "name": "stdout",
     "output_type": "stream",
     "text": [
      "Sumar 2 y 2 da lugar a  4\n"
     ]
    }
   ],
   "source": [
    "echo \"Sumar 2 y 2 da lugar a \" $(expr 2 + 2)"
   ]
  },
  {
   "cell_type": "markdown",
   "metadata": {},
   "source": [
    "Pero si no dejamos espacios al utilizar el operando:"
   ]
  },
  {
   "cell_type": "code",
   "execution_count": 13,
   "metadata": {},
   "outputs": [
    {
     "name": "stdout",
     "output_type": "stream",
     "text": [
      "Sumar 2 y 2 da lugar a  2+2\n"
     ]
    }
   ],
   "source": [
    "echo \"Sumar 2 y 2 da lugar a \" $(expr 2+2)"
   ]
  },
  {
   "cell_type": "markdown",
   "metadata": {},
   "source": [
    "Según lo que valgan las variables a operar, podremos utilizar los operandos simples que se reflejan en la siguiente tabla:"
   ]
  },
  {
   "cell_type": "markdown",
   "metadata": {},
   "source": [
    "<table>\n",
    "<tr>\n",
    "<td>var++ y var--</td>\n",
    "<td>Se procesa el valor y después se aumenta o decrementa en uno el valor</td>\n",
    "</tr>\n",
    "\n",
    "<tr>\n",
    "<td>++var y --var</td>\n",
    "<td>Aumenta o decrementar el valor de la variable en uno y se procesa</td>\n",
    "</tr>\n",
    "\n",
    "<tr>\n",
    "<td>- +</td>\n",
    "<td>Menos y más (unario)</td>\n",
    "<tr>\n",
    "\n",
    "<tr>\n",
    "<td>! ~</td>\n",
    "<td>Negación lógica y de bits</td>\n",
    "</tr>\n",
    "\n",
    "<tr>\n",
    "<td>**</td>\n",
    "<td>Exponencial</td>\n",
    "</tr>\n",
    "\n",
    "<tr>\n",
    "<td>* / %</td>\n",
    "<td>Multiplicar, dividir y resto</td>\n",
    "</tr>\n",
    "\n",
    "<tr>\n",
    "<td>+ -</td>\n",
    "<td>Sumar y restar</td>\n",
    "</tr>\n",
    "\n",
    "<tr>\n",
    "<td><< >></td>\n",
    "<td>Rotar bit a izquierda y derecha</td>\n",
    "</tr>\n",
    "\n",
    "<tr>\n",
    "<td><= >= < ></td>\n",
    "<td>Comparaciones</td>\n",
    "</tr>\n",
    "\n",
    "<tr>\n",
    "<td>== !=</td>\n",
    "<td>Igualdad, desigualdad</td>\n",
    "</tr>\n",
    "\n",
    "<tr>\n",
    "<td>&</td>\n",
    "<td>Operación a nivel de bit AND</td>\n",
    "</tr>\n",
    "\n",
    "<tr>\n",
    "<td>^</td>\n",
    "<td>Operación a nivel de bit exclusivo OR</td>\n",
    "</tr>\n",
    "\n",
    "<tr>\n",
    "<td>|</td>\n",
    "<td>Operación a nivel de bit OR</td>\n",
    "</tr>\n",
    "\n",
    "<tr>\n",
    "<td>&&</td>\n",
    "<td>AND lógico</td>\n",
    "</tr>\n",
    "\n",
    "<tr>\n",
    "<td>||</td>\n",
    "<td>OR lógico</td>\n",
    "</tr>\n",
    "\n",
    "<tr>\n",
    "<td>expr1?expr2:expr3</td>\n",
    "<td>Evaluación condicional: Si expr1 entonces expr2, si no expr3</td>\n",
    "</tr>\n",
    "</table>\n"
   ]
  },
  {
   "cell_type": "markdown",
   "metadata": {},
   "source": [
    "Algunos caracteres de la tabla deben ser escapados para evitar que Bash no los interprete al mostrarlos. Por ejemplo, si queremos simplemente mostrar < y > tendremos que escaparlos así: \\< y \\> .\n",
    "\n",
    "De no ser así, puede darse el caso que intente redirigir la salida estándar a un archivo u obtener la entrada estándar como método de introducción de información en el script, ya que estos caracteres en concreto se utilizan para eso."
   ]
  }
 ],
 "metadata": {
  "kernelspec": {
   "display_name": "Bash",
   "language": "bash",
   "name": "bash"
  },
  "language_info": {
   "codemirror_mode": "shell",
   "file_extension": ".sh",
   "mimetype": "text/x-sh",
   "name": "bash"
  }
 },
 "nbformat": 4,
 "nbformat_minor": 2
}
